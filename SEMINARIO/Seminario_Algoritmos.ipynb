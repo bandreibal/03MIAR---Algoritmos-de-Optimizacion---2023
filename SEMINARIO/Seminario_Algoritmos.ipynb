{
  "nbformat": 4,
  "nbformat_minor": 0,
  "metadata": {
    "colab": {
      "provenance": [],
      "include_colab_link": true
    },
    "kernelspec": {
      "name": "python3",
      "display_name": "Python 3"
    }
  },
  "cells": [
    {
      "cell_type": "markdown",
      "metadata": {
        "id": "view-in-github",
        "colab_type": "text"
      },
      "source": [
        "<a href=\"https://colab.research.google.com/github/bandreibal/03MIAR---Algoritmos-de-Optimizacion---2023/blob/main/SEMINARIO/Seminario_Algoritmos.ipynb\" target=\"_parent\"><img src=\"https://colab.research.google.com/assets/colab-badge.svg\" alt=\"Open In Colab\"/></a>"
      ]
    },
    {
      "cell_type": "markdown",
      "metadata": {
        "id": "hVbXYX-RfPWh"
      },
      "source": [
        "# Algoritmos de optimización - Seminario\n",
        "*Nombre y Apellidos*: Bogdan Andrei Baltes\n",
        "\n",
        "*Github*: https://github.com/bandreibal/03MIAR---Algoritmos-de-Optimizacion---2023/tree/main/SEMINARIO\n",
        "\n",
        "*Colab*:   https://colab.research.google.com/drive/1tx2Jd3odbEdi0YGZtU3-k25M-cJJ3Qh8?usp=sharing\n",
        "\n",
        "*Problema*:\n",
        "**Organizar los horarios de partidos de La Liga**\n",
        "\n",
        "*Descripción del problema*:\n",
        "Desde la La Liga de fútbol profesional se pretende organizar los horarios de los partidos de liga de cada jornada. Se conocen algunos datos que nos deben llevar a diseñar un algoritmo que realice la asignación de los partidos a los horarios de forma que **maximice la audiencia**.\n",
        "\n",
        "\n",
        "\n",
        "\n",
        "\n",
        "                                        "
      ]
    },
    {
      "cell_type": "markdown",
      "metadata": {
        "id": "3_-exlrTgLd-"
      },
      "source": [
        "# (*) ¿Cuantas posibilidades hay sin tener en cuenta las restricciones?<br>"
      ]
    },
    {
      "cell_type": "markdown",
      "source": [
        "Estamos ante una **variación con repetición**, por lo que tendremos $n^k$ posibles soluciones. En este caso, $n$ representa los posibles horarios para su celebración, y $k$ es el número de partidos (o parejas de equipos que se enfrentan). Esto se debe a que el orden de los partidos importa, y puede haber varios partidos en el mismo horario.\n",
        "\n",
        "Por tanto, tendremos $10^{10} = 10.000.000.000$ posibilidades de soluciones sin tener en cuenta las restricciones."
      ],
      "metadata": {
        "id": "MOfMvS05KkW5"
      }
    },
    {
      "cell_type": "markdown",
      "source": [
        "# ¿Cuantas posibilidades hay teniendo en cuenta todas las restricciones?\n"
      ],
      "metadata": {
        "id": "1Tz2YaDeYX6D"
      }
    },
    {
      "cell_type": "markdown",
      "metadata": {
        "id": "WfCUqJyKhPcw"
      },
      "source": [
        "En este caso, la única restricción es aquella de tener obligatoriamente al menos un partido en el horario del viernes a las 20h y del lunes a las 20h.\n",
        "\n",
        "Por lo tanto, para cumplir con la restricción, reservaremos dos partidos cualesquiera para los dos horarios.\n",
        "\n",
        "Las posibles combinaciones para esta reserva será una **variación sin repetición**, que dará lugar a $\\frac{n!}{(n-k)!}$ posibilidades. En este caso, la $n$ corresponderá al número total de partidos: 10. La $k$ será igual a 2, el número de horarios entre los que queremos repartir dos de los 10 partidos. Por tanto:\n",
        "$\\frac{n!}{(n-k)!} = 90$.\n",
        "\n",
        "En cuanto a los otros ocho partidos, estaremos ante la misma situación que en el caso sin restricciones, pero con una $n$ menor. Será una **variación con repetición**, dando lugar a $10^{8} = 100.000.000$ posibles soluciones.\n",
        "\n",
        "Por tanto, multiplicando estos dos resultados, se tendrían $90 \\cdot 10^{8} = 9.000.000.000$ posibilidades."
      ]
    },
    {
      "cell_type": "markdown",
      "metadata": {
        "id": "dzynfVJahHoY"
      },
      "source": [
        "# (*) ¿Cual es la estructura de datos que mejor se adapta al problema? Arguméntalo.\n",
        "*(Es posible que hayas elegido una al principio y veas la necesidad de cambiar, arguméntalo.)*\n"
      ]
    },
    {
      "cell_type": "markdown",
      "source": [
        "Para presentar los resultados de forma ordenada, se optó por crear una clase llamada *Match* con los atributos *slot*, *team1* y *team2*, para indicar el horario del partido y los equipos que compiten en él. Por tanto, **todos los algoritmos devuelven una lista de objetos *Match***.\n",
        "\n",
        "Sin embargo, estos objetos solo se usaron en todos los algoritmos en un intento de estandarización de los resultados. En el algoritmo genético, se usó desde el principio el objeto *Match*. En los otros dos, las estructuras de datos empleadas para llegar a ellos fueron o bien listas, o combinaciones de listas con otros elementos (por ejemplo, en diccionarios).\n",
        "- En el algoritmo por fuerza bruta, se emplea una **lista de listas**, que empieza estando vacía: [[], [], [], [], [], [], [], [], [], []]. Cada una de las listas interiores representa uno de los diez posibles horarios. Cuando se producen las asignaciones, se añaden los elementos a la lista correspondiente al horario deseado. Se mantiene siempre el mismo orden, siendo así la primera lista el horario de viernes a las 20h, y la última lunes a las 20h.\n",
        "- En el algoritmo voraz, se emplea un **diccionario que contiene listas**. Un ejemplo de elemento de este diccionario es: 'V20': [0.4, []]. La clave será el horario del partido, y el valor es una lista con dos elementos: el coeficiente relacionado con el horario, y las parejas de equipos que jugarán en ese horario.\n",
        "- **En el algoritmo genético, se empleó la clase *Match*** para facilitar las acciones de los operadores genéticos, pudiendo modificar los horarios de forma más sencilla en los cruces y las mutaciones.\n",
        "\n",
        "Al principio, al modelar el problema, también se había considerado usar un formato tabular para los datos. Sin embargo, se encontraron dificultades a la hora de representar aspectos como las coincidencias horarias. Esto fue más sencillo mediante las listas, pudiendo así acceder a esta información consultando la longitud de la lista.\n",
        "\n",
        "Sería relativamente sencillo modificar las estructuras de las listas de los dos primeros algoritmos, pero se optó por estandarizar solamente la salida para mostrar el proceso de diseño llevado a cabo durante la práctica."
      ],
      "metadata": {
        "id": "6L8P1F8Ua2rk"
      }
    },
    {
      "cell_type": "markdown",
      "metadata": {
        "id": "7Z9U2W7bi-XS"
      },
      "source": [
        "# (*) ¿Cuál es la función objetivo?"
      ]
    },
    {
      "cell_type": "markdown",
      "source": [
        "La función objetivo es: $$Z = \\sum_{i \\in SLOTS}^{len(SLOTS)} {Base\\_Cat} \\cdot {Coef\\_Slot} \\cdot {Coef\\_Coinc}$$\n",
        "\n",
        "donde:\n",
        "\n",
        "- $Base\\_Cat$ indicará la suma de la audiencia base de los partidos colocados en el horario, en base a la categoría de los integrantes de cada pareja.\n",
        "- $Coef\\_Slot$ es el coeficiente por el que se debe multiplicar la audiencia estadística en función del día y hora del horario.\n",
        "- $Coef\\_Coinc$ es el valor por el que se multiplicará como penalización por coincidencia de horarios, en función del número de partidos que ocurren en el mismo *slot* de tiempo."
      ],
      "metadata": {
        "id": "bUXGke6NMgZq"
      }
    },
    {
      "cell_type": "markdown",
      "source": [
        "# (*) ¿Es un problema de maximización o minimización?"
      ],
      "metadata": {
        "id": "kTB9BIiBJ7XQ"
      }
    },
    {
      "cell_type": "markdown",
      "source": [
        "Se trata de un **problema de maximización**. El objetivo final del problema que consiste en asignar los partidos a los diferentes horarios es maximizar la audiencia de dichos partidos."
      ],
      "metadata": {
        "id": "0etPjzeIPVHA"
      }
    },
    {
      "cell_type": "markdown",
      "metadata": {
        "id": "rlnTYgY1j6I2"
      },
      "source": [
        "# Diseña un algoritmo para resolver el problema por fuerza bruta."
      ]
    },
    {
      "cell_type": "markdown",
      "source": [
        "*Nota*: Se han dejado algunos prints en forma de comentarios en caso de querer ver el funcionamiento interno del algoritmo. Si es el caso, bastaría con descomentar esos comentarios y ejecutar de nuevo."
      ],
      "metadata": {
        "id": "Be_CHdIGfdp0"
      }
    },
    {
      "cell_type": "code",
      "source": [
        "import itertools\n",
        "import copy\n",
        "\n",
        "class Match:\n",
        "    def __init__(self, team1, team2, slot):\n",
        "        self.team1 = team1\n",
        "        self.team2 = team2\n",
        "        self.slot = slot\n",
        "\n",
        "def planificador_bruta(MATCHES):\n",
        "\n",
        "    global_best_combination = []\n",
        "    global_best_audience = 0\n",
        "    count = 0\n",
        "\n",
        "    SLOTS_COEFFICIENTS = {\n",
        "        'V20': 0.4,\n",
        "        'S12': 0.55,\n",
        "        'S16': 0.7,\n",
        "        'S18': 0.8,\n",
        "        'S20': 1.0,\n",
        "        'D12': 0.45,\n",
        "        'D16': 0.75,\n",
        "        'D18': 0.85,\n",
        "        'D20': 1.0,\n",
        "        'L20': 0.4\n",
        "    }\n",
        "\n",
        "    SLOTS_COEFFICIENTS_LIST = list(SLOTS_COEFFICIENTS.values())\n",
        "\n",
        "    BASE_AUDIENCE = {\n",
        "        ('A', 'A'): 2.0,\n",
        "        ('A', 'B'): 1.3,\n",
        "        ('A', 'C'): 1.0,\n",
        "        ('B', 'B'): 0.9,\n",
        "        ('B', 'C'): 0.75,\n",
        "        ('C', 'C'): 0.47\n",
        "    }\n",
        "\n",
        "    PENALTY_COEFFICIENTS = {\n",
        "        -1: 0.0,\n",
        "        0: 1.0,\n",
        "        1: 0.75,\n",
        "        2: 0.55,\n",
        "        3: 0.4,\n",
        "        4: 0.3,\n",
        "        5: 0.25,\n",
        "        6: 0.22,\n",
        "        7: 0.20,\n",
        "        8: 0.20\n",
        "    }\n",
        "\n",
        "    EQUIPOS_CAT = {\n",
        "        'Real Madrid': 'A',\n",
        "        'R. Sociedad': 'A',\n",
        "        'Barcelona': 'A',\n",
        "        'Celta': 'B',\n",
        "        'Valencia': 'B',\n",
        "        'Athletic': 'B',\n",
        "        'Villarreal': 'B',\n",
        "        'Alavés': 'B',\n",
        "        'Levante': 'B',\n",
        "        'Espanyol': 'B',\n",
        "        'Sevilla': 'B',\n",
        "        'Betis': 'B',\n",
        "        'Atlético': 'B',\n",
        "        'Getafe': 'B',\n",
        "        'Mallorca': 'C',\n",
        "        'Eibar': 'C',\n",
        "        'Leganés': 'C',\n",
        "        'Osasuna': 'C',\n",
        "        'Granada': 'C',\n",
        "        'Valladolid': 'C',\n",
        "    }\n",
        "\n",
        "    # Los nombres de los equipos se traducen a sus categorías, ordenadas dentro\n",
        "    # de la misma tupla para poder utilizar la audiencia de BASE_AUDIENCE\n",
        "    result = [(EQUIPOS_CAT[team1], EQUIPOS_CAT[team2]) for team1, team2 in MATCHES]\n",
        "    sorted_matches = [tuple(sorted(match)) for match in result]\n",
        "\n",
        "    # Guardamos la equivalencia de las parejas de equipos originales\n",
        "    # a sus \"traducciones\"\n",
        "    MATCHES_EQ = list(zip(MATCHES, sorted_matches))\n",
        "    MATCHES_AUDIENCES = [BASE_AUDIENCE[x] for x in sorted_matches]\n",
        "\n",
        "    # Se asignan las parejas de equipos a diferentes slots de manera recursiva,\n",
        "    # guardando la mejor audiencia y la planificación que lleva a ella\n",
        "    def assign_items(item_index, my_items):\n",
        "        nonlocal best_audience\n",
        "        nonlocal best_combination\n",
        "        if item_index == len(my_items):\n",
        "            current_audience = sum(sum(slot) * SLOTS_COEFFICIENTS_LIST[index] * PENALTY_COEFFICIENTS[(len(slot)-1)] for index, slot in enumerate(my_list))\n",
        "            if current_audience > best_audience:\n",
        "                best_audience = current_audience\n",
        "                best_combination = copy.deepcopy(my_list)\n",
        "            return\n",
        "\n",
        "        for list_index in range(len(my_list)):\n",
        "            if my_items[item_index] not in my_list[list_index]:\n",
        "                my_list[list_index].append(my_items[item_index])\n",
        "                assign_items(item_index + 1, NEW_MATCHES)\n",
        "                my_list[list_index].remove(my_items[item_index])\n",
        "\n",
        "        if len(my_list) < 10:\n",
        "            my_list.append([my_items[item_index]])\n",
        "            assign_items(item_index + 1, NEW_MATCHES)\n",
        "            my_list.pop()\n",
        "\n",
        "    # Se itera en cada combinación de opciones para partidos\n",
        "    # en viernes y lunes (la restricción del problema)\n",
        "    for v in itertools.permutations(MATCHES_AUDIENCES, 2):\n",
        "        count += 1\n",
        "        # print(\"Iteración #\", count)\n",
        "        NEW_MATCHES = copy.deepcopy(MATCHES_AUDIENCES)\n",
        "\n",
        "        for element in list(v):\n",
        "            if element in NEW_MATCHES:\n",
        "                NEW_MATCHES.remove(element)\n",
        "\n",
        "        # print(\"Partidos en V20 y L20:\", v[0], v[1])\n",
        "        # print(\"Partidos a repartir:\", NEW_MATCHES)\n",
        "\n",
        "        my_list = [[], [], [], [], [], [], [], [], [], []]\n",
        "        my_list[0].append(v[0])\n",
        "        my_list[9].append(v[1])\n",
        "        # print(my_list)\n",
        "        best_combination = []\n",
        "        best_audience = 0\n",
        "\n",
        "        assign_items(0, NEW_MATCHES)\n",
        "        # print(\"Mejor audiencia: \", best_audience)\n",
        "        # print(\"Mejor combinación: \", best_combination)\n",
        "\n",
        "        if best_audience > global_best_audience:\n",
        "                global_best_audience = best_audience\n",
        "                global_best_combination = copy.deepcopy(best_combination)\n",
        "        # print(\"-------------------------------------\")\n",
        "\n",
        "    # print(\"RESULTADOS GLOBALES:\")\n",
        "    # print(\"Mejor audiencia: \", global_best_audience)\n",
        "    # print(\"Mejor combinación: \", global_best_combination)\n",
        "\n",
        "    # Se estandarizan las salidas para guardar los resultados en objetos\n",
        "    # Match y se prepara la presentación de los resultados finales\n",
        "    for i in range(len(global_best_combination)):\n",
        "        for j in range(len(global_best_combination[i])):\n",
        "            value = global_best_combination[i][j]\n",
        "            key = next(key for key, val in BASE_AUDIENCE.items() if val == value)\n",
        "            global_best_combination[i][j] = key\n",
        "\n",
        "    # print(global_best_combination)\n",
        "\n",
        "    count = 0\n",
        "    matches = []\n",
        "    for slot in global_best_combination:\n",
        "        for match in slot:\n",
        "            slot_name = list(SLOTS_COEFFICIENTS.keys())[count]\n",
        "            new_match = Match(match[0], match[1], slot_name)\n",
        "            matches.append(new_match)\n",
        "        count += 1\n",
        "\n",
        "    print(\"Planificación mediante ALGORITMO POR FUERZA BRUTA\\n-----\")\n",
        "\n",
        "    already_used_teams = []\n",
        "\n",
        "    for m in matches:\n",
        "        for names, eq in MATCHES_EQ:\n",
        "            if (m.team1, m.team2) == eq and names not in already_used_teams:\n",
        "                m.team1, m.team2 = names\n",
        "                already_used_teams.append(names)\n",
        "        print(f\"Horario: {m.slot}, Equipos: {m.team1} - {m.team2}\")\n",
        "    print('-----\\nMejor audiencia: ', global_best_audience, 'millones de espectadores')"
      ],
      "metadata": {
        "id": "jwxMmXpOlemw"
      },
      "execution_count": null,
      "outputs": []
    },
    {
      "cell_type": "markdown",
      "source": [
        "En la siguiente celda se ejecuta el algoritmo por fuerza bruta desarrollado con una entrada de ejemplo. Esta entrada solo contiene 16 de los 20 equipos. Esto se debe a que para entradas de 18 equipos (9 partidos) el algoritmo tarda alrededor de 16 minutos en ejecutar, mientras que ya con 20 equipos (10 partidos) no terminó de ejecutar en ninguno de los intentos realizados."
      ],
      "metadata": {
        "id": "Th7egcc5ZIkB"
      }
    },
    {
      "cell_type": "code",
      "source": [
        "partidos_ejemplo = [\n",
        "    ('Celta', 'Real Madrid'),\n",
        "    ('Valencia', 'R. Sociedad'),\n",
        "    ('Mallorca', 'Eibar'),\n",
        "    ('Athletic', 'Barcelona'),\n",
        "    ('Leganés', 'Osasuna'),\n",
        "    ('Villarreal', 'Granada'),\n",
        "    # ('Alavés', 'Levante'),\n",
        "    # ('Espanyol', 'Sevilla'),\n",
        "    ('Betis', 'Valladolid'),\n",
        "    ('Atlético', 'Getafe')\n",
        "]\n",
        "\n",
        "planificador_bruta(partidos_ejemplo)"
      ],
      "metadata": {
        "colab": {
          "base_uri": "https://localhost:8080/"
        },
        "id": "gJSCAq2OPTd6",
        "outputId": "09b0caf0-5d4f-4093-919e-95b13a1b7a5b"
      },
      "execution_count": null,
      "outputs": [
        {
          "output_type": "stream",
          "name": "stdout",
          "text": [
            "Planificación mediante ALGORITMO POR FUERZA BRUTA\n",
            "-----\n",
            "Horario: V20, Equipos: Mallorca - Eibar\n",
            "Horario: S16, Equipos: Villarreal - Granada\n",
            "Horario: S18, Equipos: Atlético - Getafe\n",
            "Horario: S20, Equipos: Celta - Real Madrid\n",
            "Horario: D16, Equipos: Betis - Valladolid\n",
            "Horario: D18, Equipos: Valencia - R. Sociedad\n",
            "Horario: D20, Equipos: Athletic - Barcelona\n",
            "Horario: L20, Equipos: Leganés - Osasuna\n",
            "-----\n",
            "Mejor audiencia:  5.888499999999999 millones de espectadores\n"
          ]
        }
      ]
    },
    {
      "cell_type": "markdown",
      "metadata": {
        "id": "tgrnsC2nkFa8"
      },
      "source": [
        "# Calcula la complejidad del algoritmo por fuerza bruta."
      ]
    },
    {
      "cell_type": "markdown",
      "source": [
        "A alto nivel, este algoritmo está compuesto por dos bucles:\n",
        "- El bucle exterior, como se mencionó anteriormente, es una variación sin repetición, que se ejecutará $\\frac{n!}{(n-k)!}$ veces. Su objetivo es cumplir con el requerimiento de siempre tener un partido los viernes y los lunes a las 20:00. Por tanto, la $k$ será igual a 2, quedándonos con una expresión igual a $\\frac{n!}{(n-k)!} = n \\cdot (n-1)$. Esto nos dará una complejidad del bucle de $O(n^2)$.\n",
        "- El bucle interior, a su vez, será una variación con repetición, y será el encargado de explorar las distintas formas de agendar los $n-2$ partidos restantes entre 10 posibles horarios. Por tanto, se recorrerán $10^{n-2}$ posibilidades, dejando el bucle con una complejidad de $O(10^{n})$.\n",
        "\n",
        "La complejidad final del algoritmo será $O(10^{n})$, ya que es el término dominante, y se trata de una complejidad exponencial (comúnmente denotada por $O(2^{n})$). Es una de las complejidades más costosas en tiempo, solo peor que la factorial, y se debe tener en cuenta que habrá un número de posibles soluciones que es difícil de emplear por fuerza bruta."
      ],
      "metadata": {
        "id": "0v4JNZJZTqRQ"
      }
    },
    {
      "cell_type": "markdown",
      "metadata": {
        "id": "txbrmLmskReM"
      },
      "source": [
        "# (*) Diseña un algoritmo que mejore la complejidad del algortimo por fuerza bruta.\n",
        "*Argumenta por qué crees que mejora el algoritmo por fuerza bruta.*"
      ]
    },
    {
      "cell_type": "markdown",
      "source": [
        "Los algoritmos por fuerza bruta tienen la evidente ventaja de que garantizan obtener siempre el óptimo global, ya que exploran todo el espacio de soluciones y comparan los resultados de todas ellas.\n",
        "\n",
        "Sin embargo, los algoritmos por fuerza bruta suelen ser ineficientes, sobre todo llegando a números de elementos muy elevados. Por ejemplo, el algoritmo desarrollado en las secciones anteriores no llega a ejecutarse con $n = 10$. Para ahorrar memoria y tiempo, se han desarrollado otros dos algoritmos que no son exactos: un algoritmo voraz y un algoritmo genético. Son algoritmos que no garantizan un óptimo global pero que se aproximan bastante bien a los resultados del algoritmo por fuerza bruta, en un tiempo de ejecución mucho menor."
      ],
      "metadata": {
        "id": "6kFqKrpaD0m5"
      }
    },
    {
      "cell_type": "markdown",
      "source": [
        "## Algoritmo Voraz\n",
        "El algoritmo ordena todos los partidos en función de la audiencia base que pueden tener, de mayor a menor. Se trata de un algoritmo voraz porque siempre escoge las soluciones óptimas en cada paso.\n",
        "\n",
        "Se itera por todos los partidos, calculando la audiencia que aportaría su planificación en cada uno de los horarios, teniendo en cuenta la audiencia base de las categorías de los equipos, la audiencia por el horario y la penalización por coincidencias con otros partidos. Tras estos cálculos, se elige el horario que mayor audiencia aporte."
      ],
      "metadata": {
        "id": "QgdBJYZO_s4d"
      }
    },
    {
      "cell_type": "code",
      "metadata": {
        "id": "CJb5sQ0qkENy"
      },
      "source": [
        "import random\n",
        "import copy\n",
        "\n",
        "class Match:\n",
        "    def __init__(self, team1, team2, slot):\n",
        "        self.team1 = team1\n",
        "        self.team2 = team2\n",
        "        self.slot = slot\n",
        "\n",
        "def planificador_voraz(MATCHES):\n",
        "\n",
        "    SLOTS_COEFFICIENTS = {\n",
        "        'V20': [0.4, []],\n",
        "        'S12': [0.55, []],\n",
        "        'S16': [0.7, []],\n",
        "        'S18': [0.8, []],\n",
        "        'S20': [1.0, []],\n",
        "        'D12': [0.45, []],\n",
        "        'D16': [0.75, []],\n",
        "        'D18': [0.85, []],\n",
        "        'D20': [1.0, []],\n",
        "        'L20': [0.4, []]\n",
        "    }\n",
        "\n",
        "    EQUIPOS_CAT = {\n",
        "        'Real Madrid': 'A',\n",
        "        'R. Sociedad': 'A',\n",
        "        'Barcelona': 'A',\n",
        "        'Celta': 'B',\n",
        "        'Valencia': 'B',\n",
        "        'Athletic': 'B',\n",
        "        'Villarreal': 'B',\n",
        "        'Alavés': 'B',\n",
        "        'Levante': 'B',\n",
        "        'Espanyol': 'B',\n",
        "        'Sevilla': 'B',\n",
        "        'Betis': 'B',\n",
        "        'Atlético': 'B',\n",
        "        'Getafe': 'B',\n",
        "        'Mallorca': 'C',\n",
        "        'Eibar': 'C',\n",
        "        'Leganés': 'C',\n",
        "        'Osasuna': 'C',\n",
        "        'Granada': 'C',\n",
        "        'Valladolid': 'C',\n",
        "    }\n",
        "\n",
        "    BASE_AUDIENCE = {\n",
        "        ('A', 'A'): 2.0,\n",
        "        ('A', 'B'): 1.3,\n",
        "        ('A', 'C'): 1.0,\n",
        "        ('B', 'B'): 0.9,\n",
        "        ('B', 'C'): 0.75,\n",
        "        ('C', 'C'): 0.47\n",
        "    }\n",
        "\n",
        "    PENALTY_COEFFICIENTS = {\n",
        "        0: 1.0,\n",
        "        1: 0.75,\n",
        "        2: 0.55,\n",
        "        3: 0.4,\n",
        "        4: 0.3,\n",
        "        5: 0.25,\n",
        "        6: 0.22,\n",
        "        7: 0.20,\n",
        "        8: 0.20\n",
        "    }\n",
        "\n",
        "    # Los nombres de los equipos se traducen a sus categorías, ordenadas dentro\n",
        "    # de la misma tupla para poder utilizar la audiencia de BASE_AUDIENCE\n",
        "    result = [(EQUIPOS_CAT[team1], EQUIPOS_CAT[team2]) for team1, team2 in MATCHES]\n",
        "    sorted_matches = [tuple(sorted(match)) for match in result]\n",
        "\n",
        "    # Guardamos la equivalencia de las parejas de equipos originales\n",
        "    # a sus \"traducciones\"\n",
        "    MATCHES_EQ = list(zip(MATCHES, sorted_matches))\n",
        "\n",
        "    # Se ordenan los partidos de mayor a menor audiencia\n",
        "    ordered_matches = sorted(sorted_matches, key=lambda x: BASE_AUDIENCE.get(x, 0), reverse=True)\n",
        "\n",
        "    total_audience, new_best_audience, count = 0, 0, len(ordered_matches)\n",
        "\n",
        "    for match in ordered_matches:\n",
        "        slot_audiences = []\n",
        "\n",
        "        # Se comprueba primero si no se cumple la restricción de tener al\n",
        "        # menos un partido en horario V20 y L20\n",
        "        if count == 2 and len(SLOTS_COEFFICIENTS['V20'][1]) == 0 and len(SLOTS_COEFFICIENTS['L20'][1]) == 0:\n",
        "            new_best_audience = SLOTS_COEFFICIENTS['V20'][0] * BASE_AUDIENCE[match]\n",
        "            NEW_BEST_CONFIG = copy.deepcopy(SLOTS_COEFFICIENTS)\n",
        "            NEW_BEST_CONFIG['V20'][1].append(BASE_AUDIENCE[match])\n",
        "\n",
        "        elif count == 1 and len(SLOTS_COEFFICIENTS['V20'][1]) == 0:\n",
        "            new_best_audience = SLOTS_COEFFICIENTS['V20'][0] * BASE_AUDIENCE[match]\n",
        "            NEW_BEST_CONFIG = copy.deepcopy(SLOTS_COEFFICIENTS)\n",
        "            NEW_BEST_CONFIG['V20'][1].append(BASE_AUDIENCE[match])\n",
        "\n",
        "        elif count == 1 and len(SLOTS_COEFFICIENTS['L20'][1]) == 0:\n",
        "            new_best_audience = SLOTS_COEFFICIENTS['L20'][0] * BASE_AUDIENCE[match]\n",
        "            NEW_BEST_CONFIG = copy.deepcopy(SLOTS_COEFFICIENTS)\n",
        "            NEW_BEST_CONFIG['L20'][1].append(BASE_AUDIENCE[match])\n",
        "\n",
        "        else:\n",
        "            # Se recorren todas las posibles asignaciones del partido a un horario\n",
        "            for slot, data in SLOTS_COEFFICIENTS.items():\n",
        "                new_audience = data[0] * BASE_AUDIENCE[match]\n",
        "                if len(data[1]) > 0:\n",
        "                    new_audience = new_audience * PENALTY_COEFFICIENTS[len(data[1])] - sum(data[1]) * (1 - PENALTY_COEFFICIENTS[len(data[1])])\n",
        "                slot_audiences.append(new_audience)\n",
        "                # Si la asignación es la que más audiencia generaría, es la nueva mejor solución\n",
        "                if new_audience == max(slot_audiences):\n",
        "                    new_best_audience = new_audience\n",
        "                    NEW_BEST_CONFIG = copy.deepcopy(SLOTS_COEFFICIENTS)\n",
        "                    NEW_BEST_CONFIG[slot][1].append(BASE_AUDIENCE[match])\n",
        "\n",
        "        # Se actualiza la audiencia total y la planificación de los partidos\n",
        "        SLOTS_COEFFICIENTS = copy.deepcopy(NEW_BEST_CONFIG)\n",
        "        total_audience += new_best_audience\n",
        "        count -= 1\n",
        "\n",
        "    # Se estandarizan las salidas para guardar los resultados en objetos\n",
        "    # Match y se prepara la presentación de los resultados finales\n",
        "    configuraciones = copy.deepcopy(SLOTS_COEFFICIENTS)\n",
        "    slots = []\n",
        "\n",
        "    for slot, info in configuraciones.items():\n",
        "        slots.append(info[1])\n",
        "\n",
        "    for i in range(len(slots)):\n",
        "        for j in range(len(slots[i])):\n",
        "            value = slots[i][j]\n",
        "            key = next(key for key, val in BASE_AUDIENCE.items() if val == value)\n",
        "            slots[i][j] = key\n",
        "\n",
        "    count = 0\n",
        "    matches = []\n",
        "    for slot in slots:\n",
        "        for match in slot:\n",
        "            slot_name = list(SLOTS_COEFFICIENTS.keys())[count]\n",
        "            new_match = Match(match[0], match[1], slot_name)\n",
        "            matches.append(new_match)\n",
        "        count += 1\n",
        "\n",
        "    print(\"Planificación mediante ALGORITMO VORAZ\\n-----\")\n",
        "\n",
        "    already_used_teams = []\n",
        "\n",
        "    for m in matches:\n",
        "        for names, eq in MATCHES_EQ:\n",
        "            if (m.team1, m.team2) == eq and names not in already_used_teams:\n",
        "                m.team1, m.team2 = names\n",
        "                already_used_teams.append(names)\n",
        "        print(f\"Horario: {m.slot}, Equipos: {m.team1} - {m.team2}\")\n",
        "    print('-----\\nMejor audiencia: ', total_audience, 'millones de espectadores')"
      ],
      "execution_count": null,
      "outputs": []
    },
    {
      "cell_type": "markdown",
      "source": [
        "En la siguiente celda se ejecuta el algoritmo voraz desarrollado con una entrada de ejemplo. Esta entrada solo contiene 16 de los 20 equipos y es la misma que la que se usa en el algoritmo por fuerza bruta, para poder comparar los resultados."
      ],
      "metadata": {
        "id": "bBkgfkIPY6tp"
      }
    },
    {
      "cell_type": "code",
      "source": [
        "partidos_ejemplo = [\n",
        "    ('Celta', 'Real Madrid'),\n",
        "    ('Valencia', 'R. Sociedad'),\n",
        "    ('Mallorca', 'Eibar'),\n",
        "    ('Athletic', 'Barcelona'),\n",
        "    ('Leganés', 'Osasuna'),\n",
        "    ('Villarreal', 'Granada'),\n",
        "    # ('Alavés', 'Levante'),\n",
        "    # ('Espanyol', 'Sevilla'),\n",
        "    ('Betis', 'Valladolid'),\n",
        "    ('Atlético', 'Getafe')\n",
        "]\n",
        "\n",
        "planificador_voraz(partidos_ejemplo)"
      ],
      "metadata": {
        "colab": {
          "base_uri": "https://localhost:8080/"
        },
        "id": "xO0KfuFJFfzB",
        "outputId": "65f6e574-3797-44b5-ab5b-d0e6efd77d0c"
      },
      "execution_count": null,
      "outputs": [
        {
          "output_type": "stream",
          "name": "stdout",
          "text": [
            "Planificación mediante ALGORITMO VORAZ\n",
            "-----\n",
            "Horario: V20, Equipos: Mallorca - Eibar\n",
            "Horario: S16, Equipos: Villarreal - Granada\n",
            "Horario: S18, Equipos: Atlético - Getafe\n",
            "Horario: S20, Equipos: Celta - Real Madrid\n",
            "Horario: D16, Equipos: Betis - Valladolid\n",
            "Horario: D18, Equipos: Valencia - R. Sociedad\n",
            "Horario: D20, Equipos: Athletic - Barcelona\n",
            "Horario: L20, Equipos: Leganés - Osasuna\n",
            "-----\n",
            "Mejor audiencia:  5.888499999999999 millones de espectadores\n"
          ]
        }
      ]
    },
    {
      "cell_type": "markdown",
      "source": [
        "En la siguiente celda se ejecuta con los 10 partidos de la documentación del problema."
      ],
      "metadata": {
        "id": "AIEw0L1qZBen"
      }
    },
    {
      "cell_type": "code",
      "source": [
        "partidos_ejemplo = [\n",
        "    ('Celta', 'Real Madrid'),\n",
        "    ('Valencia', 'R. Sociedad'),\n",
        "    ('Mallorca', 'Eibar'),\n",
        "    ('Athletic', 'Barcelona'),\n",
        "    ('Leganés', 'Osasuna'),\n",
        "    ('Villarreal', 'Granada'),\n",
        "    ('Alavés', 'Levante'),\n",
        "    ('Espanyol', 'Sevilla'),\n",
        "    ('Betis', 'Valladolid'),\n",
        "    ('Atlético', 'Getafe')\n",
        "]\n",
        "\n",
        "planificador_voraz(partidos_ejemplo)"
      ],
      "metadata": {
        "colab": {
          "base_uri": "https://localhost:8080/"
        },
        "id": "o6N0v_QOZCSC",
        "outputId": "11b8467d-2e9d-4a2f-eedc-f90be375b9db"
      },
      "execution_count": null,
      "outputs": [
        {
          "output_type": "stream",
          "name": "stdout",
          "text": [
            "Planificación mediante ALGORITMO VORAZ\n",
            "-----\n",
            "Horario: V20, Equipos: Mallorca - Eibar\n",
            "Horario: S12, Equipos: Villarreal - Granada\n",
            "Horario: S16, Equipos: Alavés - Levante\n",
            "Horario: S18, Equipos: Espanyol - Sevilla\n",
            "Horario: S20, Equipos: Celta - Real Madrid\n",
            "Horario: D12, Equipos: Betis - Valladolid\n",
            "Horario: D16, Equipos: Atlético - Getafe\n",
            "Horario: D18, Equipos: Valencia - R. Sociedad\n",
            "Horario: D20, Equipos: Athletic - Barcelona\n",
            "Horario: L20, Equipos: Leganés - Osasuna\n",
            "-----\n",
            "Mejor audiencia:  6.855999999999999 millones de espectadores\n"
          ]
        }
      ]
    },
    {
      "cell_type": "markdown",
      "source": [
        "## Algoritmo Genético\n",
        "El algoritmo genera una población inicial aleatoria que va cruzando y mutando a lo largo de las generaciones para encontrar la mejor solución."
      ],
      "metadata": {
        "id": "NWGXato9_zIo"
      }
    },
    {
      "cell_type": "code",
      "metadata": {
        "id": "m1eyM21Vkabg"
      },
      "source": [
        "import random\n",
        "import copy\n",
        "\n",
        "class Match:\n",
        "    def __init__(self, team1, team2, slot):\n",
        "        self.team1 = team1\n",
        "        self.team2 = team2\n",
        "        self.slot = slot\n",
        "\n",
        "def planificador_genetico(MATCHES):\n",
        "\n",
        "    BASE_AUDIENCE = {\n",
        "        ('A', 'A'): 2.0,\n",
        "        ('A', 'B'): 1.3,\n",
        "        ('A', 'C'): 1.0,\n",
        "        ('B', 'B'): 0.9,\n",
        "        ('B', 'C'): 0.75,\n",
        "        ('C', 'C'): 0.47,\n",
        "        ('', ''): 0.00\n",
        "    }\n",
        "\n",
        "    SLOTS_COEFFICIENTS = {\n",
        "        'V20': 0.4,\n",
        "        'S12': 0.55,\n",
        "        'S16': 0.7,\n",
        "        'S18': 0.8,\n",
        "        'S20': 1.0,\n",
        "        'D12': 0.45,\n",
        "        'D16': 0.75,\n",
        "        'D18': 0.85,\n",
        "        'D20': 1.0,\n",
        "        'L20': 0.4,\n",
        "    }\n",
        "\n",
        "    PENALTY_COEFFICIENTS = {\n",
        "        0: 1.0,\n",
        "        1: 0.75,\n",
        "        2: 0.55,\n",
        "        3: 0.4,\n",
        "        4: 0.3,\n",
        "        5: 0.25,\n",
        "        6: 0.22,\n",
        "        7: 0.20,\n",
        "        8: 0.20\n",
        "    }\n",
        "\n",
        "    EQUIPOS_CAT = {\n",
        "        'Real Madrid': 'A',\n",
        "        'R. Sociedad': 'A',\n",
        "        'Barcelona': 'A',\n",
        "        'Celta': 'B',\n",
        "        'Valencia': 'B',\n",
        "        'Athletic': 'B',\n",
        "        'Villarreal': 'B',\n",
        "        'Alavés': 'B',\n",
        "        'Levante': 'B',\n",
        "        'Espanyol': 'B',\n",
        "        'Sevilla': 'B',\n",
        "        'Betis': 'B',\n",
        "        'Atlético': 'B',\n",
        "        'Getafe': 'B',\n",
        "        'Mallorca': 'C',\n",
        "        'Eibar': 'C',\n",
        "        'Leganés': 'C',\n",
        "        'Osasuna': 'C',\n",
        "        'Granada': 'C',\n",
        "        'Valladolid': 'C',\n",
        "    }\n",
        "\n",
        "    # Los nombres de los equipos se traducen a sus categorías, ordenadas dentro\n",
        "    # de la misma tupla para poder utilizar la audiencia de BASE_AUDIENCE\n",
        "    result = [(EQUIPOS_CAT[team1], EQUIPOS_CAT[team2]) for team1, team2 in MATCHES]\n",
        "    sorted_matches = [tuple(sorted(match)) for match in result]\n",
        "\n",
        "    # Guardamos la equivalencia de las parejas de equipos originales\n",
        "    # a sus \"traducciones\"\n",
        "    MATCHES_EQ = list(zip(MATCHES, sorted_matches))\n",
        "\n",
        "    # Se ordenan los partidos de mayor a menor audiencia\n",
        "    ordered_matches = sorted(sorted_matches, key=lambda x: BASE_AUDIENCE.get(x, 0), reverse=True)\n",
        "\n",
        "    # Se fijan los parámetros del Algoritmo Genético\n",
        "    POPULATION_SIZE = 100\n",
        "    NUM_GENERATIONS = 1000\n",
        "    TOURNAMENT_SIZE = 50\n",
        "    MUTATION_RATE = 0.1\n",
        "\n",
        "    # Se crea una función para comprobar que siempre haya (al menos) un partido\n",
        "    # en horarios V20 y L20\n",
        "    def required_slots(matches):\n",
        "        has_v20_pair = any(match.slot == 'V20' for match in matches if match.team1 != '')\n",
        "\n",
        "        if not has_v20_pair:\n",
        "            non_v20_match = random.choice([match for match in matches if match.slot != 'V20'])\n",
        "            non_v20_match.slot = 'V20'\n",
        "\n",
        "        has_l20_pair = any(match.slot == 'L20' for match in matches if match.team1 != '')\n",
        "\n",
        "        if not has_l20_pair:\n",
        "            non_l20_match = random.choice([match for match in matches if match.slot != 'V20' and match.slot != 'L20'])\n",
        "            non_l20_match.slot = 'L20'\n",
        "\n",
        "        return matches\n",
        "\n",
        "    # Se genera un cromosoma aleatorio, utilizando las parejas de equipos existentes y\n",
        "    # asignando un horario aleatoriamente\n",
        "    def generate_random_chromosome():\n",
        "        matches = []\n",
        "        available_matches = ordered_matches[:]\n",
        "        for slot, _ in SLOTS_COEFFICIENTS.items():\n",
        "            if available_matches:\n",
        "                teams = random.choice(available_matches)\n",
        "                available_matches.remove(teams)\n",
        "                match = Match(teams[0], teams[1], slot)\n",
        "                matches.append(match)\n",
        "\n",
        "        # Se comprueba que haya al menos un partido en horarios V20 y L20\n",
        "        matches = required_slots(matches)\n",
        "\n",
        "        return matches\n",
        "\n",
        "    # Se calcula la función fitness, iterando por todos los partidos dentro\n",
        "    # de cada cromosoma para obtener la audiencia total\n",
        "    def calculate_fitness(chromosome):\n",
        "        total_audience = 0\n",
        "        slot_coincidences = {}\n",
        "\n",
        "        for match in chromosome:\n",
        "            if match.slot in slot_coincidences:\n",
        "                slot_coincidences[match.slot] += 1\n",
        "            else:\n",
        "                slot_coincidences[match.slot] = 0\n",
        "\n",
        "        for match in chromosome:\n",
        "            base_audience = BASE_AUDIENCE[(match.team1, match.team2)]\n",
        "            slot_coefficient = SLOTS_COEFFICIENTS[match.slot]\n",
        "            audience = base_audience * slot_coefficient * PENALTY_COEFFICIENTS[slot_coincidences[match.slot]]\n",
        "            total_audience += audience\n",
        "\n",
        "        return total_audience\n",
        "\n",
        "    # Se seleccionan de una forma aleatoria dentro de la población a los que mayor\n",
        "    # valor de audiencia tengan\n",
        "    def tournament_selection(population):\n",
        "        selected = []\n",
        "        for _ in range(len(population)):\n",
        "            participants = random.sample(population, TOURNAMENT_SIZE)\n",
        "            selected.append(max(participants, key=lambda x: x['fitness']))\n",
        "        return selected\n",
        "\n",
        "    # El cruce es single-point, elegido al azar. Es decir, a partir de\n",
        "    # una posición aleatoria, se intercambian los horarios de los padres\n",
        "    def crossover(parent1, parent2):\n",
        "        crossover_point = random.randint(1, len(parent1))\n",
        "        child1 = copy.deepcopy(parent1)\n",
        "        child2 = copy.deepcopy(parent2)\n",
        "\n",
        "        for i in range(crossover_point):\n",
        "            child1[i].slot = parent1[i].slot\n",
        "            child2[i].slot = parent2[i].slot\n",
        "\n",
        "        for i in range(crossover_point, len(parent1)):\n",
        "            child1[i].slot = parent2[i].slot\n",
        "            child2[i].slot = parent1[i].slot\n",
        "\n",
        "        # Se comprueba que haya al menos un partido en horarios V20 y L20 en cada\n",
        "        # individuo hijo\n",
        "        child1 = required_slots(child1)\n",
        "        child2 = required_slots(child2)\n",
        "\n",
        "        return child1, child2\n",
        "\n",
        "    # Se define la función de mutación. El individuo mutará si un número elegido\n",
        "    # al azar supera el parámetro de MUTATION_RATE\n",
        "    def mutate(chromosome):\n",
        "        for i in range(len(chromosome)):\n",
        "            if random.random() < MUTATION_RATE:\n",
        "                chromosome[i].slot = random.choice(list(SLOTS_COEFFICIENTS.keys()))\n",
        "\n",
        "        # Se comprueba que haya al menos un partido en horarios V20 y L20\n",
        "        chromosome = required_slots(chromosome)\n",
        "\n",
        "        return chromosome\n",
        "\n",
        "    # Se inicializa la población\n",
        "    population = []\n",
        "    for _ in range(POPULATION_SIZE):\n",
        "        chromosome = generate_random_chromosome()\n",
        "        fitness = calculate_fitness(chromosome)\n",
        "        population.append({'chromosome': chromosome, 'fitness': fitness})\n",
        "\n",
        "    # Se crean las generaciones\n",
        "    for generation in range(NUM_GENERATIONS):\n",
        "        # Se seleccionan los individuos de la generación\n",
        "        selected = tournament_selection(population)\n",
        "\n",
        "        # Se hace el cruce\n",
        "        offspring = []\n",
        "        while len(offspring) < POPULATION_SIZE:\n",
        "            parent1, parent2 = random.sample(selected, 2)\n",
        "            child1, child2 = crossover(parent1['chromosome'], parent2['chromosome'])\n",
        "            offspring1 = mutate(child1)\n",
        "            offspring2 = mutate(child2)\n",
        "            offspring.append({'chromosome': offspring1, 'fitness': calculate_fitness(offspring1)})\n",
        "            offspring.append({'chromosome': offspring2, 'fitness': calculate_fitness(offspring2)})\n",
        "\n",
        "        # Se actualiza la población y se mantienen solo los individuos con mayor valor de audiencia\n",
        "        population = selected + offspring\n",
        "        population = sorted(population, key=lambda x: x['fitness'], reverse=True)\n",
        "        population = population[:POPULATION_SIZE]\n",
        "\n",
        "    # Se selecciona la mejor solución\n",
        "    best_solution = population[0]\n",
        "\n",
        "    # Se prepara la salida de los resultados\n",
        "    already_used_teams = []\n",
        "\n",
        "    print(\"Planificación mediante ALGORITMO GENÉTICO\\n-----\")\n",
        "\n",
        "    for m in best_solution['chromosome']:\n",
        "        for names, eq in MATCHES_EQ:\n",
        "            if (m.team1, m.team2) == eq and names not in already_used_teams:\n",
        "                m.team1, m.team2 = names\n",
        "                already_used_teams.append(names)\n",
        "        print(f\"Horario: {m.slot}, Equipos: {m.team1} - {m.team2}\")\n",
        "    print('-----\\nMejor audiencia: ', best_solution['fitness'], 'millones de espectadores')"
      ],
      "execution_count": null,
      "outputs": []
    },
    {
      "cell_type": "markdown",
      "source": [
        "En la siguiente celda se ejecuta el algoritmo genético desarrollado con una entrada de ejemplo. Esta entrada solo contiene 16 de los 20 equipos y es la misma que la que se usa en el algoritmo por fuerza bruta, para poder comparar los resultados."
      ],
      "metadata": {
        "id": "XBzWJoHpXkv-"
      }
    },
    {
      "cell_type": "code",
      "source": [
        "partidos_ejemplo = [\n",
        "    ('Celta', 'Real Madrid'),\n",
        "    ('Valencia', 'R. Sociedad'),\n",
        "    ('Mallorca', 'Eibar'),\n",
        "    ('Athletic', 'Barcelona'),\n",
        "    ('Leganés', 'Osasuna'),\n",
        "    ('Villarreal', 'Granada'),\n",
        "    # ('Alavés', 'Levante'),\n",
        "    # ('Espanyol', 'Sevilla'),\n",
        "    ('Betis', 'Valladolid'),\n",
        "    ('Atlético', 'Getafe')\n",
        "]\n",
        "\n",
        "planificador_genetico(partidos_ejemplo)"
      ],
      "metadata": {
        "colab": {
          "base_uri": "https://localhost:8080/"
        },
        "id": "_hqTsRP5Gqtd",
        "outputId": "236357e6-ab37-4b16-bc96-66d43aebec3e"
      },
      "execution_count": null,
      "outputs": [
        {
          "output_type": "stream",
          "name": "stdout",
          "text": [
            "Planificación mediante ALGORITMO GENÉTICO\n",
            "-----\n",
            "Horario: V20, Equipos: Mallorca - Eibar\n",
            "Horario: S16, Equipos: Villarreal - Granada\n",
            "Horario: D20, Equipos: Celta - Real Madrid\n",
            "Horario: S18, Equipos: Atlético - Getafe\n",
            "Horario: S20, Equipos: Valencia - R. Sociedad\n",
            "Horario: D16, Equipos: Betis - Valladolid\n",
            "Horario: L20, Equipos: Leganés - Osasuna\n",
            "Horario: D18, Equipos: Athletic - Barcelona\n",
            "-----\n",
            "Mejor audiencia:  5.8885000000000005 millones de espectadores\n"
          ]
        }
      ]
    },
    {
      "cell_type": "markdown",
      "source": [
        "En la siguiente celda se ejecuta con los 10 partidos de la documentación del problema."
      ],
      "metadata": {
        "id": "_Uhcpc-5Ypsa"
      }
    },
    {
      "cell_type": "code",
      "source": [
        "partidos_ejemplo = [\n",
        "    ('Celta', 'Real Madrid'),\n",
        "    ('Valencia', 'R. Sociedad'),\n",
        "    ('Mallorca', 'Eibar'),\n",
        "    ('Athletic', 'Barcelona'),\n",
        "    ('Leganés', 'Osasuna'),\n",
        "    ('Villarreal', 'Granada'),\n",
        "    ('Alavés', 'Levante'),\n",
        "    ('Espanyol', 'Sevilla'),\n",
        "    ('Betis', 'Valladolid'),\n",
        "    ('Atlético', 'Getafe')\n",
        "]\n",
        "\n",
        "planificador_genetico(partidos_ejemplo)"
      ],
      "metadata": {
        "colab": {
          "base_uri": "https://localhost:8080/"
        },
        "id": "gpbXxkHhYuII",
        "outputId": "59dadef1-263a-4978-a6e1-e32417fbd783"
      },
      "execution_count": null,
      "outputs": [
        {
          "output_type": "stream",
          "name": "stdout",
          "text": [
            "Planificación mediante ALGORITMO GENÉTICO\n",
            "-----\n",
            "Horario: S16, Equipos: Alavés - Levante\n",
            "Horario: L20, Equipos: Mallorca - Eibar\n",
            "Horario: S12, Equipos: Villarreal - Granada\n",
            "Horario: D18, Equipos: Celta - Real Madrid\n",
            "Horario: S20, Equipos: Valencia - R. Sociedad\n",
            "Horario: V20, Equipos: Leganés - Osasuna\n",
            "Horario: D16, Equipos: Espanyol - Sevilla\n",
            "Horario: S18, Equipos: Atlético - Getafe\n",
            "Horario: D20, Equipos: Athletic - Barcelona\n",
            "Horario: D12, Equipos: Betis - Valladolid\n",
            "-----\n",
            "Mejor audiencia:  6.856000000000001 millones de espectadores\n"
          ]
        }
      ]
    },
    {
      "cell_type": "markdown",
      "source": [
        "## Comparación de los dos algoritmos\n",
        "Cabe destacar que los dos algoritmos desarrollados tienen funcionamientos parecidos en general, aunque el voraz siempre será determinista mientras que el genético tiene un componente más aleatorio.\n",
        "\n",
        "Esto se puede comprobar con la **gestión de las coincidencias horarias**: mientras que el voraz suele evitar las coincidencias si es posible, el genético las emplea y gracias a ello puede encontrar resultados con una audiencia ligeramente mayor en algunos casos. Por ejemplo, para la entrada mostrada a continuación, tenemos los resultados que se muestran."
      ],
      "metadata": {
        "id": "_Fm8OGjL9XFu"
      }
    },
    {
      "cell_type": "code",
      "source": [
        "entrada_comparacion = [\n",
        "    ('Sevilla', 'Valladolid'),\n",
        "    ('Celta', 'Valencia'),\n",
        "    ('Leganés', 'Mallorca'),\n",
        "    ('Barcelona', 'Eibar'),\n",
        "    ('Betis', 'Real Madrid'),\n",
        "    ('Osasuna', 'R. Sociedad'),\n",
        "    ('Espanyol', 'Levante'),\n",
        "    ('Getafe', 'Villarreal'),\n",
        "    ('Alavés', 'Atlético'),\n",
        "    ('Athletic', 'Granada')\n",
        " ]"
      ],
      "metadata": {
        "id": "rNAFyDhy-H0c"
      },
      "execution_count": null,
      "outputs": []
    },
    {
      "cell_type": "code",
      "source": [
        "%%time\n",
        "planificador_voraz(entrada_comparacion)"
      ],
      "metadata": {
        "colab": {
          "base_uri": "https://localhost:8080/"
        },
        "id": "AV8eueV3-YAH",
        "outputId": "2831e8bb-1c46-4439-80ee-84dfdaaf3fe1"
      },
      "execution_count": null,
      "outputs": [
        {
          "output_type": "stream",
          "name": "stdout",
          "text": [
            "Planificación mediante ALGORITMO VORAZ\n",
            "-----\n",
            "Horario: V20, Equipos: Sevilla - Valladolid\n",
            "Horario: S12, Equipos: Celta - Valencia\n",
            "Horario: S16, Equipos: Espanyol - Levante\n",
            "Horario: S18, Equipos: Getafe - Villarreal\n",
            "Horario: S20, Equipos: Barcelona - Eibar\n",
            "Horario: D12, Equipos: Athletic - Granada\n",
            "Horario: D16, Equipos: Alavés - Atlético\n",
            "Horario: D18, Equipos: Osasuna - R. Sociedad\n",
            "Horario: D20, Equipos: Betis - Real Madrid\n",
            "Horario: L20, Equipos: Leganés - Mallorca\n",
            "-----\n",
            "Mejor audiencia:  6.4955 millones de espectadores\n",
            "CPU times: user 8.07 ms, sys: 0 ns, total: 8.07 ms\n",
            "Wall time: 10.8 ms\n"
          ]
        }
      ]
    },
    {
      "cell_type": "code",
      "source": [
        "%%time\n",
        "planificador_genetico(entrada_comparacion)"
      ],
      "metadata": {
        "colab": {
          "base_uri": "https://localhost:8080/"
        },
        "id": "0EJVLAE2-eMB",
        "outputId": "0a4009df-d5e6-4ed2-a27c-637ccca71806"
      },
      "execution_count": null,
      "outputs": [
        {
          "output_type": "stream",
          "name": "stdout",
          "text": [
            "Planificación mediante ALGORITMO GENÉTICO\n",
            "-----\n",
            "Horario: D16, Equipos: Celta - Valencia\n",
            "Horario: S20, Equipos: Espanyol - Levante\n",
            "Horario: S18, Equipos: Barcelona - Eibar\n",
            "Horario: S20, Equipos: Getafe - Villarreal\n",
            "Horario: D18, Equipos: Osasuna - R. Sociedad\n",
            "Horario: S12, Equipos: Sevilla - Valladolid\n",
            "Horario: V20, Equipos: Athletic - Granada\n",
            "Horario: S16, Equipos: Alavés - Atlético\n",
            "Horario: D20, Equipos: Betis - Real Madrid\n",
            "Horario: L20, Equipos: Leganés - Mallorca\n",
            "-----\n",
            "Mejor audiencia:  6.5055 millones de espectadores\n",
            "CPU times: user 16.4 s, sys: 44.8 ms, total: 16.4 s\n",
            "Wall time: 16.6 s\n"
          ]
        }
      ]
    },
    {
      "cell_type": "markdown",
      "source": [
        "La diferencia en el ejemplo mostrado anteriormente es de tan solo 0.01 millones de espectadores, pero es interesante cómo en algunos casos las coincidencias horarias son más beneficiosas que otras opciones. También se han encontrado algunos casos donde el resultado del genético es ligeramente inferior que el del voraz.\n",
        "\n",
        "Por el otro lado, cabe destacar que el **tiempo de ejecución** del algoritmo voraz es considerablemente menor que el del genético: 10.8 milisegundos para el primero comparado con 16.6 segundos para el segundo."
      ],
      "metadata": {
        "id": "rxTe22ZM-qrv"
      }
    },
    {
      "cell_type": "markdown",
      "metadata": {
        "id": "eGDB4K6uk1iN"
      },
      "source": [
        "# (*) Calcula la complejidad del algoritmo."
      ]
    },
    {
      "cell_type": "markdown",
      "source": [
        "La complejidad de ambos algoritmos desarrollados para mejorar el algoritmo por fuerza bruta será lineal."
      ],
      "metadata": {
        "id": "b05F7zPkvtQn"
      }
    },
    {
      "cell_type": "markdown",
      "source": [
        "## Complejidad del Algoritmo Voraz\n",
        "El algoritmo se ejecutará $n$ veces, una por cada pareja de equipos. Dentro de cada iteración, se iterará 10 veces, una por cada uno de los horarios disponibles, y que es un número fijo. Por tanto, la complejidad del algoritmo voraz será lineal: $O(n)$."
      ],
      "metadata": {
        "id": "xLdmK0bR3nBk"
      }
    },
    {
      "cell_type": "markdown",
      "source": [
        "## Complejidad del Algoritmo Genético\n",
        "\n",
        "La complejidad del Algoritmo Genético es ligeramente más difícil de calcular. No se han encontrado respuestas claras en artículos científicos sobre un criterio unificado para calcular la complejidad de los algoritmos genéticos debido a que estos son altamente personalizados. Por ello, la solución a esta pregunta se ha desarrollado teniendo en cuenta algunas preguntas y respuestas en foros sobre investigación y desarrollo ([[1]](https://stackoverflow.com/questions/9146086/time-complexity-of-genetic-algorithm), [[2]](https://www.researchgate.net/post/How_Can_I_compute_the_time_complexity_Big-O_Notation_of_Genetic_Algorithm2)).\n",
        "\n",
        "Cada vez que se genera un cromosoma y se calcula su función *fitness*, se realizan $n$ ejecuciones (el número de partidos que hay). Esto se ejecuta por cada individuo que se genera (teniendo un número N de individuos) a lo largo de G generaciones, donde tras los cruces y las mutaciones es necesario volver a calcular la función *fitness*. A un alto nivel, se tendrían un total de $n \\cdot N$ ejecuciones para la creación de la población inicial de $N$ individuos, y dentro de cada generación G se calcularía la función *fitness* para los descendientes: $G \\cdot n$. Sumado, nos quedarían $n \\cdot (N + G)$ operaciones, con una complejidad final de $O(n)$."
      ],
      "metadata": {
        "id": "HxVoB3Z04Xgr"
      }
    },
    {
      "cell_type": "markdown",
      "metadata": {
        "id": "3M6QjTsSkmYe"
      },
      "source": [
        "# Según el problema (y tenga sentido), diseña un juego de datos de entrada aleatorios."
      ]
    },
    {
      "cell_type": "markdown",
      "source": [
        "Se genera una entrada aleatoria dados los equipos de La Liga."
      ],
      "metadata": {
        "id": "vpeoyddwCJ_V"
      }
    },
    {
      "cell_type": "code",
      "metadata": {
        "id": "sJ-N2etjkyWc",
        "colab": {
          "base_uri": "https://localhost:8080/"
        },
        "outputId": "af557128-7a2f-4244-a537-10437e39530a"
      },
      "source": [
        "import random\n",
        "\n",
        "def entrada_datos_aleatorios():\n",
        "\n",
        "    EQUIPOS = [\n",
        "        'Real Madrid', 'R. Sociedad', 'Barcelona', 'Celta', 'Valencia', 'Athletic', 'Villarreal', 'Alavés', 'Levante',\n",
        "        'Espanyol', 'Sevilla', 'Betis', 'Atlético', 'Getafe', 'Mallorca', 'Eibar', 'Leganés', 'Osasuna', 'Granada', 'Valladolid'\n",
        "    ]\n",
        "\n",
        "    # Se crean las tuplas aleatorias\n",
        "    random.shuffle(EQUIPOS)\n",
        "    RANDOM_MATCHES = [(EQUIPOS[i], EQUIPOS[i + 1]) for i in range(0, len(EQUIPOS), 2)]\n",
        "    RANDOM_MATCHES = [tuple(sorted(match)) for match in RANDOM_MATCHES]\n",
        "\n",
        "    return RANDOM_MATCHES\n",
        "\n",
        "entrada_aleatoria = entrada_datos_aleatorios()\n",
        "entrada_aleatoria"
      ],
      "execution_count": null,
      "outputs": [
        {
          "output_type": "execute_result",
          "data": {
            "text/plain": [
              "[('Atlético', 'Betis'),\n",
              " ('Getafe', 'Mallorca'),\n",
              " ('Sevilla', 'Valencia'),\n",
              " ('Valladolid', 'Villarreal'),\n",
              " ('Alavés', 'Real Madrid'),\n",
              " ('Granada', 'R. Sociedad'),\n",
              " ('Celta', 'Osasuna'),\n",
              " ('Barcelona', 'Espanyol'),\n",
              " ('Athletic', 'Eibar'),\n",
              " ('Leganés', 'Levante')]"
            ]
          },
          "metadata": {},
          "execution_count": 13
        }
      ]
    },
    {
      "cell_type": "markdown",
      "metadata": {
        "id": "zy5ZROmjlGo1"
      },
      "source": [
        "# Aplica el algoritmo al juego de datos aleatorio generado."
      ]
    },
    {
      "cell_type": "markdown",
      "source": [
        "Se aplican los juegos de datos aleatorios generados para los algoritmos en celdas de código separadas y, además, se mide el tiempo de ejecución.\n",
        "\n",
        "En el caso del algoritmo por fuerza bruta, este no llegó a terminar de ejecutarse en ninguno de los intentos, por lo que se paró manualmente."
      ],
      "metadata": {
        "id": "m9km9v5HOE_q"
      }
    },
    {
      "cell_type": "code",
      "source": [
        "%%time\n",
        "planificador_bruta(entrada_aleatoria)"
      ],
      "metadata": {
        "colab": {
          "base_uri": "https://localhost:8080/",
          "height": 416
        },
        "id": "1j3-kCblZ0SL",
        "outputId": "116bca46-48fe-4c4a-a81d-81ff4aeff01a"
      },
      "execution_count": null,
      "outputs": [
        {
          "output_type": "error",
          "ename": "KeyboardInterrupt",
          "evalue": "ignored",
          "traceback": [
            "\u001b[0;31m---------------------------------------------------------------------------\u001b[0m",
            "\u001b[0;31mKeyboardInterrupt\u001b[0m                         Traceback (most recent call last)",
            "\u001b[0;32m<timed eval>\u001b[0m in \u001b[0;36m<module>\u001b[0;34m\u001b[0m\n",
            "\u001b[0;32m<ipython-input-1-13d408526d16>\u001b[0m in \u001b[0;36mplanificador_bruta\u001b[0;34m(MATCHES)\u001b[0m\n\u001b[1;32m    128\u001b[0m         \u001b[0mbest_audience\u001b[0m \u001b[0;34m=\u001b[0m \u001b[0;36m0\u001b[0m\u001b[0;34m\u001b[0m\u001b[0;34m\u001b[0m\u001b[0m\n\u001b[1;32m    129\u001b[0m \u001b[0;34m\u001b[0m\u001b[0m\n\u001b[0;32m--> 130\u001b[0;31m         \u001b[0massign_items\u001b[0m\u001b[0;34m(\u001b[0m\u001b[0;36m0\u001b[0m\u001b[0;34m,\u001b[0m \u001b[0mNEW_MATCHES\u001b[0m\u001b[0;34m)\u001b[0m\u001b[0;34m\u001b[0m\u001b[0;34m\u001b[0m\u001b[0m\n\u001b[0m\u001b[1;32m    131\u001b[0m         \u001b[0;31m# print(\"Mejor audiencia: \", best_audience)\u001b[0m\u001b[0;34m\u001b[0m\u001b[0;34m\u001b[0m\u001b[0m\n\u001b[1;32m    132\u001b[0m         \u001b[0;31m# print(\"Mejor combinación: \", best_combination)\u001b[0m\u001b[0;34m\u001b[0m\u001b[0;34m\u001b[0m\u001b[0m\n",
            "\u001b[0;32m<ipython-input-1-13d408526d16>\u001b[0m in \u001b[0;36massign_items\u001b[0;34m(item_index, my_items)\u001b[0m\n\u001b[1;32m     99\u001b[0m             \u001b[0;32mif\u001b[0m \u001b[0mmy_items\u001b[0m\u001b[0;34m[\u001b[0m\u001b[0mitem_index\u001b[0m\u001b[0;34m]\u001b[0m \u001b[0;32mnot\u001b[0m \u001b[0;32min\u001b[0m \u001b[0mmy_list\u001b[0m\u001b[0;34m[\u001b[0m\u001b[0mlist_index\u001b[0m\u001b[0;34m]\u001b[0m\u001b[0;34m:\u001b[0m\u001b[0;34m\u001b[0m\u001b[0;34m\u001b[0m\u001b[0m\n\u001b[1;32m    100\u001b[0m                 \u001b[0mmy_list\u001b[0m\u001b[0;34m[\u001b[0m\u001b[0mlist_index\u001b[0m\u001b[0;34m]\u001b[0m\u001b[0;34m.\u001b[0m\u001b[0mappend\u001b[0m\u001b[0;34m(\u001b[0m\u001b[0mmy_items\u001b[0m\u001b[0;34m[\u001b[0m\u001b[0mitem_index\u001b[0m\u001b[0;34m]\u001b[0m\u001b[0;34m)\u001b[0m\u001b[0;34m\u001b[0m\u001b[0;34m\u001b[0m\u001b[0m\n\u001b[0;32m--> 101\u001b[0;31m                 \u001b[0massign_items\u001b[0m\u001b[0;34m(\u001b[0m\u001b[0mitem_index\u001b[0m \u001b[0;34m+\u001b[0m \u001b[0;36m1\u001b[0m\u001b[0;34m,\u001b[0m \u001b[0mNEW_MATCHES\u001b[0m\u001b[0;34m)\u001b[0m\u001b[0;34m\u001b[0m\u001b[0;34m\u001b[0m\u001b[0m\n\u001b[0m\u001b[1;32m    102\u001b[0m                 \u001b[0mmy_list\u001b[0m\u001b[0;34m[\u001b[0m\u001b[0mlist_index\u001b[0m\u001b[0;34m]\u001b[0m\u001b[0;34m.\u001b[0m\u001b[0mremove\u001b[0m\u001b[0;34m(\u001b[0m\u001b[0mmy_items\u001b[0m\u001b[0;34m[\u001b[0m\u001b[0mitem_index\u001b[0m\u001b[0;34m]\u001b[0m\u001b[0;34m)\u001b[0m\u001b[0;34m\u001b[0m\u001b[0;34m\u001b[0m\u001b[0m\n\u001b[1;32m    103\u001b[0m \u001b[0;34m\u001b[0m\u001b[0m\n",
            "\u001b[0;32m<ipython-input-1-13d408526d16>\u001b[0m in \u001b[0;36massign_items\u001b[0;34m(item_index, my_items)\u001b[0m\n\u001b[1;32m     99\u001b[0m             \u001b[0;32mif\u001b[0m \u001b[0mmy_items\u001b[0m\u001b[0;34m[\u001b[0m\u001b[0mitem_index\u001b[0m\u001b[0;34m]\u001b[0m \u001b[0;32mnot\u001b[0m \u001b[0;32min\u001b[0m \u001b[0mmy_list\u001b[0m\u001b[0;34m[\u001b[0m\u001b[0mlist_index\u001b[0m\u001b[0;34m]\u001b[0m\u001b[0;34m:\u001b[0m\u001b[0;34m\u001b[0m\u001b[0;34m\u001b[0m\u001b[0m\n\u001b[1;32m    100\u001b[0m                 \u001b[0mmy_list\u001b[0m\u001b[0;34m[\u001b[0m\u001b[0mlist_index\u001b[0m\u001b[0;34m]\u001b[0m\u001b[0;34m.\u001b[0m\u001b[0mappend\u001b[0m\u001b[0;34m(\u001b[0m\u001b[0mmy_items\u001b[0m\u001b[0;34m[\u001b[0m\u001b[0mitem_index\u001b[0m\u001b[0;34m]\u001b[0m\u001b[0;34m)\u001b[0m\u001b[0;34m\u001b[0m\u001b[0;34m\u001b[0m\u001b[0m\n\u001b[0;32m--> 101\u001b[0;31m                 \u001b[0massign_items\u001b[0m\u001b[0;34m(\u001b[0m\u001b[0mitem_index\u001b[0m \u001b[0;34m+\u001b[0m \u001b[0;36m1\u001b[0m\u001b[0;34m,\u001b[0m \u001b[0mNEW_MATCHES\u001b[0m\u001b[0;34m)\u001b[0m\u001b[0;34m\u001b[0m\u001b[0;34m\u001b[0m\u001b[0m\n\u001b[0m\u001b[1;32m    102\u001b[0m                 \u001b[0mmy_list\u001b[0m\u001b[0;34m[\u001b[0m\u001b[0mlist_index\u001b[0m\u001b[0;34m]\u001b[0m\u001b[0;34m.\u001b[0m\u001b[0mremove\u001b[0m\u001b[0;34m(\u001b[0m\u001b[0mmy_items\u001b[0m\u001b[0;34m[\u001b[0m\u001b[0mitem_index\u001b[0m\u001b[0;34m]\u001b[0m\u001b[0;34m)\u001b[0m\u001b[0;34m\u001b[0m\u001b[0;34m\u001b[0m\u001b[0m\n\u001b[1;32m    103\u001b[0m \u001b[0;34m\u001b[0m\u001b[0m\n",
            "\u001b[0;32m<ipython-input-1-13d408526d16>\u001b[0m in \u001b[0;36massign_items\u001b[0;34m(item_index, my_items)\u001b[0m\n\u001b[1;32m     99\u001b[0m             \u001b[0;32mif\u001b[0m \u001b[0mmy_items\u001b[0m\u001b[0;34m[\u001b[0m\u001b[0mitem_index\u001b[0m\u001b[0;34m]\u001b[0m \u001b[0;32mnot\u001b[0m \u001b[0;32min\u001b[0m \u001b[0mmy_list\u001b[0m\u001b[0;34m[\u001b[0m\u001b[0mlist_index\u001b[0m\u001b[0;34m]\u001b[0m\u001b[0;34m:\u001b[0m\u001b[0;34m\u001b[0m\u001b[0;34m\u001b[0m\u001b[0m\n\u001b[1;32m    100\u001b[0m                 \u001b[0mmy_list\u001b[0m\u001b[0;34m[\u001b[0m\u001b[0mlist_index\u001b[0m\u001b[0;34m]\u001b[0m\u001b[0;34m.\u001b[0m\u001b[0mappend\u001b[0m\u001b[0;34m(\u001b[0m\u001b[0mmy_items\u001b[0m\u001b[0;34m[\u001b[0m\u001b[0mitem_index\u001b[0m\u001b[0;34m]\u001b[0m\u001b[0;34m)\u001b[0m\u001b[0;34m\u001b[0m\u001b[0;34m\u001b[0m\u001b[0m\n\u001b[0;32m--> 101\u001b[0;31m                 \u001b[0massign_items\u001b[0m\u001b[0;34m(\u001b[0m\u001b[0mitem_index\u001b[0m \u001b[0;34m+\u001b[0m \u001b[0;36m1\u001b[0m\u001b[0;34m,\u001b[0m \u001b[0mNEW_MATCHES\u001b[0m\u001b[0;34m)\u001b[0m\u001b[0;34m\u001b[0m\u001b[0;34m\u001b[0m\u001b[0m\n\u001b[0m\u001b[1;32m    102\u001b[0m                 \u001b[0mmy_list\u001b[0m\u001b[0;34m[\u001b[0m\u001b[0mlist_index\u001b[0m\u001b[0;34m]\u001b[0m\u001b[0;34m.\u001b[0m\u001b[0mremove\u001b[0m\u001b[0;34m(\u001b[0m\u001b[0mmy_items\u001b[0m\u001b[0;34m[\u001b[0m\u001b[0mitem_index\u001b[0m\u001b[0;34m]\u001b[0m\u001b[0;34m)\u001b[0m\u001b[0;34m\u001b[0m\u001b[0;34m\u001b[0m\u001b[0m\n\u001b[1;32m    103\u001b[0m \u001b[0;34m\u001b[0m\u001b[0m\n",
            "\u001b[0;32m<ipython-input-1-13d408526d16>\u001b[0m in \u001b[0;36massign_items\u001b[0;34m(item_index, my_items)\u001b[0m\n\u001b[1;32m     99\u001b[0m             \u001b[0;32mif\u001b[0m \u001b[0mmy_items\u001b[0m\u001b[0;34m[\u001b[0m\u001b[0mitem_index\u001b[0m\u001b[0;34m]\u001b[0m \u001b[0;32mnot\u001b[0m \u001b[0;32min\u001b[0m \u001b[0mmy_list\u001b[0m\u001b[0;34m[\u001b[0m\u001b[0mlist_index\u001b[0m\u001b[0;34m]\u001b[0m\u001b[0;34m:\u001b[0m\u001b[0;34m\u001b[0m\u001b[0;34m\u001b[0m\u001b[0m\n\u001b[1;32m    100\u001b[0m                 \u001b[0mmy_list\u001b[0m\u001b[0;34m[\u001b[0m\u001b[0mlist_index\u001b[0m\u001b[0;34m]\u001b[0m\u001b[0;34m.\u001b[0m\u001b[0mappend\u001b[0m\u001b[0;34m(\u001b[0m\u001b[0mmy_items\u001b[0m\u001b[0;34m[\u001b[0m\u001b[0mitem_index\u001b[0m\u001b[0;34m]\u001b[0m\u001b[0;34m)\u001b[0m\u001b[0;34m\u001b[0m\u001b[0;34m\u001b[0m\u001b[0m\n\u001b[0;32m--> 101\u001b[0;31m                 \u001b[0massign_items\u001b[0m\u001b[0;34m(\u001b[0m\u001b[0mitem_index\u001b[0m \u001b[0;34m+\u001b[0m \u001b[0;36m1\u001b[0m\u001b[0;34m,\u001b[0m \u001b[0mNEW_MATCHES\u001b[0m\u001b[0;34m)\u001b[0m\u001b[0;34m\u001b[0m\u001b[0;34m\u001b[0m\u001b[0m\n\u001b[0m\u001b[1;32m    102\u001b[0m                 \u001b[0mmy_list\u001b[0m\u001b[0;34m[\u001b[0m\u001b[0mlist_index\u001b[0m\u001b[0;34m]\u001b[0m\u001b[0;34m.\u001b[0m\u001b[0mremove\u001b[0m\u001b[0;34m(\u001b[0m\u001b[0mmy_items\u001b[0m\u001b[0;34m[\u001b[0m\u001b[0mitem_index\u001b[0m\u001b[0;34m]\u001b[0m\u001b[0;34m)\u001b[0m\u001b[0;34m\u001b[0m\u001b[0;34m\u001b[0m\u001b[0m\n\u001b[1;32m    103\u001b[0m \u001b[0;34m\u001b[0m\u001b[0m\n",
            "\u001b[0;32m<ipython-input-1-13d408526d16>\u001b[0m in \u001b[0;36massign_items\u001b[0;34m(item_index, my_items)\u001b[0m\n\u001b[1;32m     99\u001b[0m             \u001b[0;32mif\u001b[0m \u001b[0mmy_items\u001b[0m\u001b[0;34m[\u001b[0m\u001b[0mitem_index\u001b[0m\u001b[0;34m]\u001b[0m \u001b[0;32mnot\u001b[0m \u001b[0;32min\u001b[0m \u001b[0mmy_list\u001b[0m\u001b[0;34m[\u001b[0m\u001b[0mlist_index\u001b[0m\u001b[0;34m]\u001b[0m\u001b[0;34m:\u001b[0m\u001b[0;34m\u001b[0m\u001b[0;34m\u001b[0m\u001b[0m\n\u001b[1;32m    100\u001b[0m                 \u001b[0mmy_list\u001b[0m\u001b[0;34m[\u001b[0m\u001b[0mlist_index\u001b[0m\u001b[0;34m]\u001b[0m\u001b[0;34m.\u001b[0m\u001b[0mappend\u001b[0m\u001b[0;34m(\u001b[0m\u001b[0mmy_items\u001b[0m\u001b[0;34m[\u001b[0m\u001b[0mitem_index\u001b[0m\u001b[0;34m]\u001b[0m\u001b[0;34m)\u001b[0m\u001b[0;34m\u001b[0m\u001b[0;34m\u001b[0m\u001b[0m\n\u001b[0;32m--> 101\u001b[0;31m                 \u001b[0massign_items\u001b[0m\u001b[0;34m(\u001b[0m\u001b[0mitem_index\u001b[0m \u001b[0;34m+\u001b[0m \u001b[0;36m1\u001b[0m\u001b[0;34m,\u001b[0m \u001b[0mNEW_MATCHES\u001b[0m\u001b[0;34m)\u001b[0m\u001b[0;34m\u001b[0m\u001b[0;34m\u001b[0m\u001b[0m\n\u001b[0m\u001b[1;32m    102\u001b[0m                 \u001b[0mmy_list\u001b[0m\u001b[0;34m[\u001b[0m\u001b[0mlist_index\u001b[0m\u001b[0;34m]\u001b[0m\u001b[0;34m.\u001b[0m\u001b[0mremove\u001b[0m\u001b[0;34m(\u001b[0m\u001b[0mmy_items\u001b[0m\u001b[0;34m[\u001b[0m\u001b[0mitem_index\u001b[0m\u001b[0;34m]\u001b[0m\u001b[0;34m)\u001b[0m\u001b[0;34m\u001b[0m\u001b[0;34m\u001b[0m\u001b[0m\n\u001b[1;32m    103\u001b[0m \u001b[0;34m\u001b[0m\u001b[0m\n",
            "\u001b[0;32m<ipython-input-1-13d408526d16>\u001b[0m in \u001b[0;36massign_items\u001b[0;34m(item_index, my_items)\u001b[0m\n\u001b[1;32m     99\u001b[0m             \u001b[0;32mif\u001b[0m \u001b[0mmy_items\u001b[0m\u001b[0;34m[\u001b[0m\u001b[0mitem_index\u001b[0m\u001b[0;34m]\u001b[0m \u001b[0;32mnot\u001b[0m \u001b[0;32min\u001b[0m \u001b[0mmy_list\u001b[0m\u001b[0;34m[\u001b[0m\u001b[0mlist_index\u001b[0m\u001b[0;34m]\u001b[0m\u001b[0;34m:\u001b[0m\u001b[0;34m\u001b[0m\u001b[0;34m\u001b[0m\u001b[0m\n\u001b[1;32m    100\u001b[0m                 \u001b[0mmy_list\u001b[0m\u001b[0;34m[\u001b[0m\u001b[0mlist_index\u001b[0m\u001b[0;34m]\u001b[0m\u001b[0;34m.\u001b[0m\u001b[0mappend\u001b[0m\u001b[0;34m(\u001b[0m\u001b[0mmy_items\u001b[0m\u001b[0;34m[\u001b[0m\u001b[0mitem_index\u001b[0m\u001b[0;34m]\u001b[0m\u001b[0;34m)\u001b[0m\u001b[0;34m\u001b[0m\u001b[0;34m\u001b[0m\u001b[0m\n\u001b[0;32m--> 101\u001b[0;31m                 \u001b[0massign_items\u001b[0m\u001b[0;34m(\u001b[0m\u001b[0mitem_index\u001b[0m \u001b[0;34m+\u001b[0m \u001b[0;36m1\u001b[0m\u001b[0;34m,\u001b[0m \u001b[0mNEW_MATCHES\u001b[0m\u001b[0;34m)\u001b[0m\u001b[0;34m\u001b[0m\u001b[0;34m\u001b[0m\u001b[0m\n\u001b[0m\u001b[1;32m    102\u001b[0m                 \u001b[0mmy_list\u001b[0m\u001b[0;34m[\u001b[0m\u001b[0mlist_index\u001b[0m\u001b[0;34m]\u001b[0m\u001b[0;34m.\u001b[0m\u001b[0mremove\u001b[0m\u001b[0;34m(\u001b[0m\u001b[0mmy_items\u001b[0m\u001b[0;34m[\u001b[0m\u001b[0mitem_index\u001b[0m\u001b[0;34m]\u001b[0m\u001b[0;34m)\u001b[0m\u001b[0;34m\u001b[0m\u001b[0;34m\u001b[0m\u001b[0m\n\u001b[1;32m    103\u001b[0m \u001b[0;34m\u001b[0m\u001b[0m\n",
            "\u001b[0;32m<ipython-input-1-13d408526d16>\u001b[0m in \u001b[0;36massign_items\u001b[0;34m(item_index, my_items)\u001b[0m\n\u001b[1;32m     99\u001b[0m             \u001b[0;32mif\u001b[0m \u001b[0mmy_items\u001b[0m\u001b[0;34m[\u001b[0m\u001b[0mitem_index\u001b[0m\u001b[0;34m]\u001b[0m \u001b[0;32mnot\u001b[0m \u001b[0;32min\u001b[0m \u001b[0mmy_list\u001b[0m\u001b[0;34m[\u001b[0m\u001b[0mlist_index\u001b[0m\u001b[0;34m]\u001b[0m\u001b[0;34m:\u001b[0m\u001b[0;34m\u001b[0m\u001b[0;34m\u001b[0m\u001b[0m\n\u001b[1;32m    100\u001b[0m                 \u001b[0mmy_list\u001b[0m\u001b[0;34m[\u001b[0m\u001b[0mlist_index\u001b[0m\u001b[0;34m]\u001b[0m\u001b[0;34m.\u001b[0m\u001b[0mappend\u001b[0m\u001b[0;34m(\u001b[0m\u001b[0mmy_items\u001b[0m\u001b[0;34m[\u001b[0m\u001b[0mitem_index\u001b[0m\u001b[0;34m]\u001b[0m\u001b[0;34m)\u001b[0m\u001b[0;34m\u001b[0m\u001b[0;34m\u001b[0m\u001b[0m\n\u001b[0;32m--> 101\u001b[0;31m                 \u001b[0massign_items\u001b[0m\u001b[0;34m(\u001b[0m\u001b[0mitem_index\u001b[0m \u001b[0;34m+\u001b[0m \u001b[0;36m1\u001b[0m\u001b[0;34m,\u001b[0m \u001b[0mNEW_MATCHES\u001b[0m\u001b[0;34m)\u001b[0m\u001b[0;34m\u001b[0m\u001b[0;34m\u001b[0m\u001b[0m\n\u001b[0m\u001b[1;32m    102\u001b[0m                 \u001b[0mmy_list\u001b[0m\u001b[0;34m[\u001b[0m\u001b[0mlist_index\u001b[0m\u001b[0;34m]\u001b[0m\u001b[0;34m.\u001b[0m\u001b[0mremove\u001b[0m\u001b[0;34m(\u001b[0m\u001b[0mmy_items\u001b[0m\u001b[0;34m[\u001b[0m\u001b[0mitem_index\u001b[0m\u001b[0;34m]\u001b[0m\u001b[0;34m)\u001b[0m\u001b[0;34m\u001b[0m\u001b[0;34m\u001b[0m\u001b[0m\n\u001b[1;32m    103\u001b[0m \u001b[0;34m\u001b[0m\u001b[0m\n",
            "\u001b[0;32m<ipython-input-1-13d408526d16>\u001b[0m in \u001b[0;36massign_items\u001b[0;34m(item_index, my_items)\u001b[0m\n\u001b[1;32m     99\u001b[0m             \u001b[0;32mif\u001b[0m \u001b[0mmy_items\u001b[0m\u001b[0;34m[\u001b[0m\u001b[0mitem_index\u001b[0m\u001b[0;34m]\u001b[0m \u001b[0;32mnot\u001b[0m \u001b[0;32min\u001b[0m \u001b[0mmy_list\u001b[0m\u001b[0;34m[\u001b[0m\u001b[0mlist_index\u001b[0m\u001b[0;34m]\u001b[0m\u001b[0;34m:\u001b[0m\u001b[0;34m\u001b[0m\u001b[0;34m\u001b[0m\u001b[0m\n\u001b[1;32m    100\u001b[0m                 \u001b[0mmy_list\u001b[0m\u001b[0;34m[\u001b[0m\u001b[0mlist_index\u001b[0m\u001b[0;34m]\u001b[0m\u001b[0;34m.\u001b[0m\u001b[0mappend\u001b[0m\u001b[0;34m(\u001b[0m\u001b[0mmy_items\u001b[0m\u001b[0;34m[\u001b[0m\u001b[0mitem_index\u001b[0m\u001b[0;34m]\u001b[0m\u001b[0;34m)\u001b[0m\u001b[0;34m\u001b[0m\u001b[0;34m\u001b[0m\u001b[0m\n\u001b[0;32m--> 101\u001b[0;31m                 \u001b[0massign_items\u001b[0m\u001b[0;34m(\u001b[0m\u001b[0mitem_index\u001b[0m \u001b[0;34m+\u001b[0m \u001b[0;36m1\u001b[0m\u001b[0;34m,\u001b[0m \u001b[0mNEW_MATCHES\u001b[0m\u001b[0;34m)\u001b[0m\u001b[0;34m\u001b[0m\u001b[0;34m\u001b[0m\u001b[0m\n\u001b[0m\u001b[1;32m    102\u001b[0m                 \u001b[0mmy_list\u001b[0m\u001b[0;34m[\u001b[0m\u001b[0mlist_index\u001b[0m\u001b[0;34m]\u001b[0m\u001b[0;34m.\u001b[0m\u001b[0mremove\u001b[0m\u001b[0;34m(\u001b[0m\u001b[0mmy_items\u001b[0m\u001b[0;34m[\u001b[0m\u001b[0mitem_index\u001b[0m\u001b[0;34m]\u001b[0m\u001b[0;34m)\u001b[0m\u001b[0;34m\u001b[0m\u001b[0;34m\u001b[0m\u001b[0m\n\u001b[1;32m    103\u001b[0m \u001b[0;34m\u001b[0m\u001b[0m\n",
            "\u001b[0;32m<ipython-input-1-13d408526d16>\u001b[0m in \u001b[0;36massign_items\u001b[0;34m(item_index, my_items)\u001b[0m\n\u001b[1;32m     90\u001b[0m         \u001b[0;32mnonlocal\u001b[0m \u001b[0mbest_combination\u001b[0m\u001b[0;34m\u001b[0m\u001b[0;34m\u001b[0m\u001b[0m\n\u001b[1;32m     91\u001b[0m         \u001b[0;32mif\u001b[0m \u001b[0mitem_index\u001b[0m \u001b[0;34m==\u001b[0m \u001b[0mlen\u001b[0m\u001b[0;34m(\u001b[0m\u001b[0mmy_items\u001b[0m\u001b[0;34m)\u001b[0m\u001b[0;34m:\u001b[0m\u001b[0;34m\u001b[0m\u001b[0;34m\u001b[0m\u001b[0m\n\u001b[0;32m---> 92\u001b[0;31m             \u001b[0mcurrent_audience\u001b[0m \u001b[0;34m=\u001b[0m \u001b[0msum\u001b[0m\u001b[0;34m(\u001b[0m\u001b[0msum\u001b[0m\u001b[0;34m(\u001b[0m\u001b[0mslot\u001b[0m\u001b[0;34m)\u001b[0m \u001b[0;34m*\u001b[0m \u001b[0mSLOTS_COEFFICIENTS_LIST\u001b[0m\u001b[0;34m[\u001b[0m\u001b[0mindex\u001b[0m\u001b[0;34m]\u001b[0m \u001b[0;34m*\u001b[0m \u001b[0mPENALTY_COEFFICIENTS\u001b[0m\u001b[0;34m[\u001b[0m\u001b[0;34m(\u001b[0m\u001b[0mlen\u001b[0m\u001b[0;34m(\u001b[0m\u001b[0mslot\u001b[0m\u001b[0;34m)\u001b[0m\u001b[0;34m-\u001b[0m\u001b[0;36m1\u001b[0m\u001b[0;34m)\u001b[0m\u001b[0;34m]\u001b[0m \u001b[0;32mfor\u001b[0m \u001b[0mindex\u001b[0m\u001b[0;34m,\u001b[0m \u001b[0mslot\u001b[0m \u001b[0;32min\u001b[0m \u001b[0menumerate\u001b[0m\u001b[0;34m(\u001b[0m\u001b[0mmy_list\u001b[0m\u001b[0;34m)\u001b[0m\u001b[0;34m)\u001b[0m\u001b[0;34m\u001b[0m\u001b[0;34m\u001b[0m\u001b[0m\n\u001b[0m\u001b[1;32m     93\u001b[0m             \u001b[0;32mif\u001b[0m \u001b[0mcurrent_audience\u001b[0m \u001b[0;34m>\u001b[0m \u001b[0mbest_audience\u001b[0m\u001b[0;34m:\u001b[0m\u001b[0;34m\u001b[0m\u001b[0;34m\u001b[0m\u001b[0m\n\u001b[1;32m     94\u001b[0m                 \u001b[0mbest_audience\u001b[0m \u001b[0;34m=\u001b[0m \u001b[0mcurrent_audience\u001b[0m\u001b[0;34m\u001b[0m\u001b[0;34m\u001b[0m\u001b[0m\n",
            "\u001b[0;32m<ipython-input-1-13d408526d16>\u001b[0m in \u001b[0;36m<genexpr>\u001b[0;34m(.0)\u001b[0m\n\u001b[1;32m     90\u001b[0m         \u001b[0;32mnonlocal\u001b[0m \u001b[0mbest_combination\u001b[0m\u001b[0;34m\u001b[0m\u001b[0;34m\u001b[0m\u001b[0m\n\u001b[1;32m     91\u001b[0m         \u001b[0;32mif\u001b[0m \u001b[0mitem_index\u001b[0m \u001b[0;34m==\u001b[0m \u001b[0mlen\u001b[0m\u001b[0;34m(\u001b[0m\u001b[0mmy_items\u001b[0m\u001b[0;34m)\u001b[0m\u001b[0;34m:\u001b[0m\u001b[0;34m\u001b[0m\u001b[0;34m\u001b[0m\u001b[0m\n\u001b[0;32m---> 92\u001b[0;31m             \u001b[0mcurrent_audience\u001b[0m \u001b[0;34m=\u001b[0m \u001b[0msum\u001b[0m\u001b[0;34m(\u001b[0m\u001b[0msum\u001b[0m\u001b[0;34m(\u001b[0m\u001b[0mslot\u001b[0m\u001b[0;34m)\u001b[0m \u001b[0;34m*\u001b[0m \u001b[0mSLOTS_COEFFICIENTS_LIST\u001b[0m\u001b[0;34m[\u001b[0m\u001b[0mindex\u001b[0m\u001b[0;34m]\u001b[0m \u001b[0;34m*\u001b[0m \u001b[0mPENALTY_COEFFICIENTS\u001b[0m\u001b[0;34m[\u001b[0m\u001b[0;34m(\u001b[0m\u001b[0mlen\u001b[0m\u001b[0;34m(\u001b[0m\u001b[0mslot\u001b[0m\u001b[0;34m)\u001b[0m\u001b[0;34m-\u001b[0m\u001b[0;36m1\u001b[0m\u001b[0;34m)\u001b[0m\u001b[0;34m]\u001b[0m \u001b[0;32mfor\u001b[0m \u001b[0mindex\u001b[0m\u001b[0;34m,\u001b[0m \u001b[0mslot\u001b[0m \u001b[0;32min\u001b[0m \u001b[0menumerate\u001b[0m\u001b[0;34m(\u001b[0m\u001b[0mmy_list\u001b[0m\u001b[0;34m)\u001b[0m\u001b[0;34m)\u001b[0m\u001b[0;34m\u001b[0m\u001b[0;34m\u001b[0m\u001b[0m\n\u001b[0m\u001b[1;32m     93\u001b[0m             \u001b[0;32mif\u001b[0m \u001b[0mcurrent_audience\u001b[0m \u001b[0;34m>\u001b[0m \u001b[0mbest_audience\u001b[0m\u001b[0;34m:\u001b[0m\u001b[0;34m\u001b[0m\u001b[0;34m\u001b[0m\u001b[0m\n\u001b[1;32m     94\u001b[0m                 \u001b[0mbest_audience\u001b[0m \u001b[0;34m=\u001b[0m \u001b[0mcurrent_audience\u001b[0m\u001b[0;34m\u001b[0m\u001b[0;34m\u001b[0m\u001b[0m\n",
            "\u001b[0;31mKeyboardInterrupt\u001b[0m: "
          ]
        }
      ]
    },
    {
      "cell_type": "code",
      "source": [
        "%%time\n",
        "planificador_voraz(entrada_aleatoria)"
      ],
      "metadata": {
        "colab": {
          "base_uri": "https://localhost:8080/"
        },
        "id": "Zbybyj47KAau",
        "outputId": "6e167c8a-9430-4d25-b15d-4e21d7c5cb9d"
      },
      "execution_count": null,
      "outputs": [
        {
          "output_type": "stream",
          "name": "stdout",
          "text": [
            "Planificación mediante ALGORITMO VORAZ\n",
            "-----\n",
            "Horario: V20, Equipos: Getafe - Mallorca\n",
            "Horario: S12, Equipos: Valladolid - Villarreal\n",
            "Horario: S16, Equipos: Celta - Osasuna\n",
            "Horario: S18, Equipos: Atlético - Betis\n",
            "Horario: S20, Equipos: Alavés - Real Madrid\n",
            "Horario: D12, Equipos: Athletic - Eibar\n",
            "Horario: D16, Equipos: Sevilla - Valencia\n",
            "Horario: D18, Equipos: Granada - R. Sociedad\n",
            "Horario: D20, Equipos: Barcelona - Espanyol\n",
            "Horario: L20, Equipos: Leganés - Levante\n",
            "-----\n",
            "Mejor audiencia:  6.719999999999999 millones de espectadores\n",
            "CPU times: user 8.46 ms, sys: 2 µs, total: 8.46 ms\n",
            "Wall time: 11.7 ms\n"
          ]
        }
      ]
    },
    {
      "cell_type": "code",
      "source": [
        "%%time\n",
        "planificador_genetico(entrada_aleatoria)"
      ],
      "metadata": {
        "colab": {
          "base_uri": "https://localhost:8080/"
        },
        "id": "8DXGu9X9LpQb",
        "outputId": "b85f285a-1e2f-4355-bac0-42f154451815"
      },
      "execution_count": null,
      "outputs": [
        {
          "output_type": "stream",
          "name": "stdout",
          "text": [
            "Planificación mediante ALGORITMO GENÉTICO\n",
            "-----\n",
            "Horario: D16, Equipos: Atlético - Betis\n",
            "Horario: V20, Equipos: Getafe - Mallorca\n",
            "Horario: S12, Equipos: Valladolid - Villarreal\n",
            "Horario: D18, Equipos: Granada - R. Sociedad\n",
            "Horario: S20, Equipos: Alavés - Real Madrid\n",
            "Horario: S18, Equipos: Sevilla - Valencia\n",
            "Horario: S16, Equipos: Celta - Osasuna\n",
            "Horario: D12, Equipos: Athletic - Eibar\n",
            "Horario: D20, Equipos: Barcelona - Espanyol\n",
            "Horario: L20, Equipos: Leganés - Levante\n",
            "-----\n",
            "Mejor audiencia:  6.720000000000001 millones de espectadores\n",
            "CPU times: user 15.6 s, sys: 34.9 ms, total: 15.7 s\n",
            "Wall time: 15.8 s\n"
          ]
        }
      ]
    },
    {
      "cell_type": "markdown",
      "metadata": {
        "id": "eTFWUJQrtGcv"
      },
      "source": [
        "# Enumera las referencias que has utilizado (si ha sido necesario) para llevar a cabo el trabajo."
      ]
    },
    {
      "cell_type": "markdown",
      "source": [
        "La base de la práctica han sido las clases de la asignatura de Algoritmos de Optimización, tanto las videoconferencias teóricas como las actividades guiadas. Además, el manual de la asignatura también fue de gran ayuda para algunos conceptos.\n",
        "\n",
        "Aparte del material mencionado, también se han utilizado páginas web y foros donde se explican nociones de la complejidad, sobre todo. Los recursos utilizados fueron los siguientes:\n",
        "\n",
        "[1] https://stackoverflow.com/questions/9146086/time-complexity-of-genetic-algorithm\n",
        "\n",
        "[2] https://www.researchgate.net/post/How_Can_I_compute_the_time_complexity_Big-O_Notation_of_Genetic_Algorithm2"
      ],
      "metadata": {
        "id": "jMwWGskzgqEW"
      }
    },
    {
      "cell_type": "markdown",
      "metadata": {
        "id": "kAkDPUyRtYyH"
      },
      "source": [
        "# Describe brevemente en unas líneas cómo crees que es posible avanzar en el estudio del problema. Ten en cuenta incluso posibles variaciones del problema y/o variaciones al alza del tamaño."
      ]
    },
    {
      "cell_type": "markdown",
      "source": [
        "A lo largo del desarrollo de esta práctica, surgieron varias ideas de cómo mejorar o avanzar con este caso de uso.\n",
        "- **Planificación de una temporada entera**. Se trataría de una ampliación del problema, para que en vez de planificar solamente una jornada, se generaran las combinaciones para toda la temporada. La tarea más complicada sería la de generar las posibles combinaciones para cada jornada, pero una vez se tenga eso, sería iterar en cada jornada con las posibles parejas de equipo y los algoritmos desarrollados en esta práctica servirían.\n",
        "- **Categorías variables de los equipos**. Actualmente, se están manteniendo la categoría de cada equipo fijo. Sin embargo, sería interesante una extensión del problema donde se tuvieran en cuenta otras variables como los resultados de cada equipo para que pudiesen cambiar de categoría a lo largo de la temporada.\n",
        "- **Información adicional de los equipos**. Podría ser interesante saber qué relaciones hay entre los equipos, para detectar qué partidos son derbi y cuáles no. En equipos de las mismas categorías pueden tener más audiencia los que se consideren derbi. Por ejemplo, R. Sociedad, Real Madrid y Barcelona son de la categoría A, pero es probable que genere más audiencia un partido Real Madrid - Barcelona que otro partido entre R. Sociedad - Barcelona.\n",
        "- **Posibilidad de incluir información sobre eventos relevantes**. Esto sería útil a la hora de tener en cuenta los coeficientes de cada horario. Por ejemplo, si un domingo a las 20h hay una final de una competición importante de baloncesto, podría considerarse penalizar ese horario según un determinado coeficiente, porque sería probable que la audiencia bajara.\n",
        "- **Uso en producción**. Para un posible uso en un sistema de producción, sería interesante mantener los dos algoritmos desarrollados y utilizar siempre la salida con mejor resultado de las dos. Muchas veces serán la misma, pero la componente aleatoria del algoritmo genético puede proporcionar resultados ligeramente mejores que el voraz. Si se necesita una planificación en tiempos de ejecución muy bajos, se podría emplear el algoritmo voraz directamente también."
      ],
      "metadata": {
        "id": "QtH5BUi8gqoa"
      }
    }
  ]
}